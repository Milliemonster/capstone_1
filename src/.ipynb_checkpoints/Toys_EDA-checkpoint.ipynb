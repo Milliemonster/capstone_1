{
 "cells": [
  {
   "cell_type": "code",
   "execution_count": 1,
   "metadata": {},
   "outputs": [
    {
     "name": "stderr",
     "output_type": "stream",
     "text": [
      "Using TensorFlow backend.\n"
     ]
    }
   ],
   "source": [
    "import numpy as np\n",
    "import pandas as pd\n",
    "import matplotlib.pyplot as plt\n",
    "import seaborn as sns\n",
    "import requests\n",
    "from bs4 import BeautifulSoup\n",
    "%matplotlib inline\n",
    "\n",
    "import missingno as msno\n",
    "from sklearn.datasets import load_boston\n",
    "from sklearn.metrics import mean_squared_error\n",
    "from fancyimpute import SimpleFill, KNN,  IterativeSVD, IterativeImputer\n"
   ]
  },
  {
   "cell_type": "code",
   "execution_count": 2,
   "metadata": {},
   "outputs": [],
   "source": [
    "def get_reviews(cols, rows, num_products):\n",
    "    '''Inputs: list of columns to use and number of rows to use when inporting data.\n",
    "    number of products to return in output dataframe\n",
    "    Output:\n",
    "    Set of ASINs of the products with the most vine reviews. Dataframe of individual reviews for products in the ASIN set\n",
    "\n",
    "    Reads csv file and converts vine and verified purcahase to numerics.\n",
    "    Sorts product ids by greatest number of vine reviews.\n",
    "    Returns ASIN set to be used and reviews of products with those ASINs\n",
    "\n",
    "    '''\n",
    "\n",
    "    reviews_df = pd.read_csv('data/amazon_reviews_toys.tsv', sep = '\\t', usecols = cols, nrows = rows, error_bad_lines = False)\n",
    "\n",
    "    reviews_df.vine = (reviews_df.vine == 'Y')*1\n",
    "    reviews_df.verified_purchase = (reviews_df.verified_purchase == 'Y')*1\n",
    "\n",
    "    vines_df = reviews_df.groupby(['product_id']).sum().sort_values('vine', ascending = False).reset_index()\n",
    "\n",
    "    vines_top_products = list(vines_df.iloc[:num_products, 0])\n",
    "    vines_df.iloc[:num_products, 0].to_csv('vines_top_products.csv')\n",
    "    top_df = reviews_df[reviews_df['product_id'].isin(vines_top_products)]\n",
    "\n",
    "    return(vines_top_products, top_df)"
   ]
  },
  {
   "cell_type": "code",
   "execution_count": 3,
   "metadata": {},
   "outputs": [
    {
     "name": "stdout",
     "output_type": "stream",
     "text": [
      "        customer_id   star_rating  helpful_votes   total_votes          vine  \\\n",
      "count  2.744600e+04  27446.000000   27446.000000  27446.000000  27446.000000   \n",
      "mean   2.811953e+07      4.276507       1.120965      1.431320      0.265102   \n",
      "std    1.674647e+07      1.153868       7.506908      8.158549      0.441396   \n",
      "min    1.103300e+04      1.000000       0.000000      0.000000      0.000000   \n",
      "25%    1.382549e+07      4.000000       0.000000      0.000000      0.000000   \n",
      "50%    2.777691e+07      5.000000       0.000000      0.000000      0.000000   \n",
      "75%    4.411568e+07      5.000000       1.000000      1.000000      1.000000   \n",
      "max    5.309583e+07      5.000000     381.000000    394.000000      1.000000   \n",
      "\n",
      "       verified_purchase  \n",
      "count       27446.000000  \n",
      "mean            0.667493  \n",
      "std             0.471120  \n",
      "min             0.000000  \n",
      "25%             0.000000  \n",
      "50%             1.000000  \n",
      "75%             1.000000  \n",
      "max             1.000000  \n"
     ]
    }
   ],
   "source": [
    "cols = ['customer_id', 'review_id', 'product_id','product_category', 'star_rating', 'helpful_votes', 'total_votes', 'vine', 'verified_purchase']\n",
    "\n",
    "ASINs, rev_df = get_reviews(cols, 1000000, 5000)\n",
    "print (rev_df.describe())\n"
   ]
  },
  {
   "cell_type": "code",
   "execution_count": 4,
   "metadata": {},
   "outputs": [
    {
     "data": {
      "text/plain": [
       "customer_id          0\n",
       "review_id            0\n",
       "product_id           0\n",
       "product_category     0\n",
       "star_rating          0\n",
       "helpful_votes        0\n",
       "total_votes          0\n",
       "vine                 0\n",
       "verified_purchase    0\n",
       "dtype: int64"
      ]
     },
     "execution_count": 4,
     "metadata": {},
     "output_type": "execute_result"
    }
   ],
   "source": [
    "rev_df.isna().sum()"
   ]
  },
  {
   "cell_type": "code",
   "execution_count": 5,
   "metadata": {},
   "outputs": [
    {
     "data": {
      "text/plain": [
       "(array([ 1647.,  1111.,  2310.,  5316., 17062.]),\n",
       " array([0.  , 1.01, 2.01, 3.01, 4.01, 5.  ]),\n",
       " <a list of 5 Patch objects>)"
      ]
     },
     "execution_count": 5,
     "metadata": {},
     "output_type": "execute_result"
    },
    {
     "data": {
      "image/png": "[encoded data removed]",
      "text/plain": [
       "<Figure size 432x288 with 1 Axes>"
      ]
     },
     "metadata": {
      "needs_background": "light"
     },
     "output_type": "display_data"
    }
   ],
   "source": [
    "plt.hist(rev_df['star_rating'], bins = [0, 1.01, 2.01, 3.01, 4.01, 5], align = 'right', rwidth = 0.75)\n"
   ]
  },
  {
   "cell_type": "code",
   "execution_count": 83,
   "metadata": {},
   "outputs": [
    {
     "data": {
      "text/plain": [
       "array([[<matplotlib.axes._subplots.AxesSubplot object at 0x1a48056710>]],\n",
       "      dtype=object)"
      ]
     },
     "execution_count": 83,
     "metadata": {},
     "output_type": "execute_result"
    },
    {
     "data": {
      "image/png": "[encoded data removed]",
      "text/plain": [
       "<Figure size 432x288 with 1 Axes>"
      ]
     },
     "metadata": {
      "needs_background": "light"
     },
     "output_type": "display_data"
    }
   ],
   "source": [
    "rev_df.hist('helpful_votes', log = True, rwidth = 0.75)"
   ]
  },
  {
   "cell_type": "code",
   "execution_count": 84,
   "metadata": {},
   "outputs": [
    {
     "data": {
      "text/html": [
       "<div>\n",
       "<style scoped>\n",
       "    .dataframe tbody tr th:only-of-type {\n",
       "        vertical-align: middle;\n",
       "    }\n",
       "\n",
       "    .dataframe tbody tr th {\n",
       "        vertical-align: top;\n",
       "    }\n",
       "\n",
       "    .dataframe thead th {\n",
       "        text-align: right;\n",
       "    }\n",
       "</style>\n",
       "<table border=\"1\" class=\"dataframe\">\n",
       "  <thead>\n",
       "    <tr style=\"text-align: right;\">\n",
       "      <th></th>\n",
       "      <th>customer_id</th>\n",
       "      <th>review_id</th>\n",
       "      <th>product_id</th>\n",
       "      <th>product_category</th>\n",
       "      <th>star_rating</th>\n",
       "      <th>helpful_votes</th>\n",
       "      <th>total_votes</th>\n",
       "      <th>vine</th>\n",
       "      <th>verified_purchase</th>\n",
       "      <th>helpful_ratio</th>\n",
       "    </tr>\n",
       "  </thead>\n",
       "  <tbody>\n",
       "    <tr>\n",
       "      <th>18</th>\n",
       "      <td>27225859</td>\n",
       "      <td>R4R337CCDWLNG</td>\n",
       "      <td>B00YRA3H4U</td>\n",
       "      <td>Toys</td>\n",
       "      <td>3</td>\n",
       "      <td>0</td>\n",
       "      <td>1</td>\n",
       "      <td>1</td>\n",
       "      <td>0</td>\n",
       "      <td>0.0</td>\n",
       "    </tr>\n",
       "    <tr>\n",
       "      <th>41</th>\n",
       "      <td>20962528</td>\n",
       "      <td>RNTPOUDQIICBF</td>\n",
       "      <td>B00M5AT30G</td>\n",
       "      <td>Toys</td>\n",
       "      <td>4</td>\n",
       "      <td>0</td>\n",
       "      <td>0</td>\n",
       "      <td>0</td>\n",
       "      <td>1</td>\n",
       "      <td>NaN</td>\n",
       "    </tr>\n",
       "    <tr>\n",
       "      <th>62</th>\n",
       "      <td>14901572</td>\n",
       "      <td>R3AIM61BUJQQ0B</td>\n",
       "      <td>B00WJ1O6P8</td>\n",
       "      <td>Toys</td>\n",
       "      <td>4</td>\n",
       "      <td>0</td>\n",
       "      <td>1</td>\n",
       "      <td>0</td>\n",
       "      <td>0</td>\n",
       "      <td>0.0</td>\n",
       "    </tr>\n",
       "    <tr>\n",
       "      <th>78</th>\n",
       "      <td>27367902</td>\n",
       "      <td>R16N0A77B9KDEJ</td>\n",
       "      <td>B00WJ1PPGM</td>\n",
       "      <td>Toys</td>\n",
       "      <td>4</td>\n",
       "      <td>0</td>\n",
       "      <td>0</td>\n",
       "      <td>1</td>\n",
       "      <td>0</td>\n",
       "      <td>NaN</td>\n",
       "    </tr>\n",
       "    <tr>\n",
       "      <th>152</th>\n",
       "      <td>43450674</td>\n",
       "      <td>R3TQ9HOI4SGLKE</td>\n",
       "      <td>B00C1ZX298</td>\n",
       "      <td>Toys</td>\n",
       "      <td>5</td>\n",
       "      <td>0</td>\n",
       "      <td>0</td>\n",
       "      <td>1</td>\n",
       "      <td>0</td>\n",
       "      <td>NaN</td>\n",
       "    </tr>\n",
       "  </tbody>\n",
       "</table>\n",
       "</div>"
      ],
      "text/plain": [
       "     customer_id       review_id  product_id product_category  star_rating  \\\n",
       "18      27225859   R4R337CCDWLNG  B00YRA3H4U             Toys            3   \n",
       "41      20962528   RNTPOUDQIICBF  B00M5AT30G             Toys            4   \n",
       "62      14901572  R3AIM61BUJQQ0B  B00WJ1O6P8             Toys            4   \n",
       "78      27367902  R16N0A77B9KDEJ  B00WJ1PPGM             Toys            4   \n",
       "152     43450674  R3TQ9HOI4SGLKE  B00C1ZX298             Toys            5   \n",
       "\n",
       "     helpful_votes  total_votes  vine  verified_purchase  helpful_ratio  \n",
       "18               0            1     1                  0            0.0  \n",
       "41               0            0     0                  1            NaN  \n",
       "62               0            1     0                  0            0.0  \n",
       "78               0            0     1                  0            NaN  \n",
       "152              0            0     1                  0            NaN  "
      ]
     },
     "execution_count": 84,
     "metadata": {},
     "output_type": "execute_result"
    }
   ],
   "source": [
    "rev_df.head()"
   ]
  },
  {
   "cell_type": "code",
   "execution_count": 85,
   "metadata": {},
   "outputs": [
    {
     "data": {
      "text/plain": [
       "array([[<matplotlib.axes._subplots.AxesSubplot object at 0x1a4b226e80>]],\n",
       "      dtype=object)"
      ]
     },
     "execution_count": 85,
     "metadata": {},
     "output_type": "execute_result"
    },
    {
     "data": {
      "image/png": "[encoded data removed]",
      "text/plain": [
       "<Figure size 432x288 with 1 Axes>"
      ]
     },
     "metadata": {
      "needs_background": "light"
     },
     "output_type": "display_data"
    }
   ],
   "source": [
    "rev_df.hist('total_votes', log = True, rwidth = 0.75)"
   ]
  },
  {
   "cell_type": "code",
   "execution_count": 9,
   "metadata": {},
   "outputs": [
    {
     "data": {
      "text/plain": [
       "array([[<matplotlib.axes._subplots.AxesSubplot object at 0x1a3559f2e8>]],\n",
       "      dtype=object)"
      ]
     },
     "execution_count": 9,
     "metadata": {},
     "output_type": "execute_result"
    },
    {
     "data": {
      "image/png": "[encoded data removed]",
      "text/plain": [
       "<Figure size 432x288 with 1 Axes>"
      ]
     },
     "metadata": {
      "needs_background": "light"
     },
     "output_type": "display_data"
    }
   ],
   "source": [
    "rev_df.hist('vine')"
   ]
  },
  {
   "cell_type": "code",
   "execution_count": 10,
   "metadata": {},
   "outputs": [
    {
     "data": {
      "text/plain": [
       "array([[<matplotlib.axes._subplots.AxesSubplot object at 0x1a3f0ef630>]],\n",
       "      dtype=object)"
      ]
     },
     "execution_count": 10,
     "metadata": {},
     "output_type": "execute_result"
    },
    {
     "data": {
      "image/png": "[encoded data removed]",
      "text/plain": [
       "<Figure size 432x288 with 1 Axes>"
      ]
     },
     "metadata": {
      "needs_background": "light"
     },
     "output_type": "display_data"
    }
   ],
   "source": [
    "rev_df.hist('verified_purchase')"
   ]
  },
  {
   "cell_type": "code",
   "execution_count": 11,
   "metadata": {},
   "outputs": [
    {
     "data": {
      "text/html": [
       "<div>\n",
       "<style scoped>\n",
       "    .dataframe tbody tr th:only-of-type {\n",
       "        vertical-align: middle;\n",
       "    }\n",
       "\n",
       "    .dataframe tbody tr th {\n",
       "        vertical-align: top;\n",
       "    }\n",
       "\n",
       "    .dataframe thead th {\n",
       "        text-align: right;\n",
       "    }\n",
       "</style>\n",
       "<table border=\"1\" class=\"dataframe\">\n",
       "  <thead>\n",
       "    <tr style=\"text-align: right;\">\n",
       "      <th></th>\n",
       "      <th>customer_id</th>\n",
       "      <th>star_rating</th>\n",
       "      <th>helpful_votes</th>\n",
       "      <th>total_votes</th>\n",
       "      <th>vine</th>\n",
       "      <th>verified_purchase</th>\n",
       "    </tr>\n",
       "  </thead>\n",
       "  <tbody>\n",
       "    <tr>\n",
       "      <th>customer_id</th>\n",
       "      <td>1.000000</td>\n",
       "      <td>-0.016549</td>\n",
       "      <td>0.039450</td>\n",
       "      <td>0.041552</td>\n",
       "      <td>0.394563</td>\n",
       "      <td>-0.342211</td>\n",
       "    </tr>\n",
       "    <tr>\n",
       "      <th>star_rating</th>\n",
       "      <td>-0.016549</td>\n",
       "      <td>1.000000</td>\n",
       "      <td>-0.036062</td>\n",
       "      <td>-0.059456</td>\n",
       "      <td>-0.000276</td>\n",
       "      <td>0.045136</td>\n",
       "    </tr>\n",
       "    <tr>\n",
       "      <th>helpful_votes</th>\n",
       "      <td>0.039450</td>\n",
       "      <td>-0.036062</td>\n",
       "      <td>1.000000</td>\n",
       "      <td>0.990196</td>\n",
       "      <td>0.065712</td>\n",
       "      <td>-0.086171</td>\n",
       "    </tr>\n",
       "    <tr>\n",
       "      <th>total_votes</th>\n",
       "      <td>0.041552</td>\n",
       "      <td>-0.059456</td>\n",
       "      <td>0.990196</td>\n",
       "      <td>1.000000</td>\n",
       "      <td>0.071795</td>\n",
       "      <td>-0.098027</td>\n",
       "    </tr>\n",
       "    <tr>\n",
       "      <th>vine</th>\n",
       "      <td>0.394563</td>\n",
       "      <td>-0.000276</td>\n",
       "      <td>0.065712</td>\n",
       "      <td>0.071795</td>\n",
       "      <td>1.000000</td>\n",
       "      <td>-0.849396</td>\n",
       "    </tr>\n",
       "    <tr>\n",
       "      <th>verified_purchase</th>\n",
       "      <td>-0.342211</td>\n",
       "      <td>0.045136</td>\n",
       "      <td>-0.086171</td>\n",
       "      <td>-0.098027</td>\n",
       "      <td>-0.849396</td>\n",
       "      <td>1.000000</td>\n",
       "    </tr>\n",
       "  </tbody>\n",
       "</table>\n",
       "</div>"
      ],
      "text/plain": [
       "                   customer_id  star_rating  helpful_votes  total_votes  \\\n",
       "customer_id           1.000000    -0.016549       0.039450     0.041552   \n",
       "star_rating          -0.016549     1.000000      -0.036062    -0.059456   \n",
       "helpful_votes         0.039450    -0.036062       1.000000     0.990196   \n",
       "total_votes           0.041552    -0.059456       0.990196     1.000000   \n",
       "vine                  0.394563    -0.000276       0.065712     0.071795   \n",
       "verified_purchase    -0.342211     0.045136      -0.086171    -0.098027   \n",
       "\n",
       "                       vine  verified_purchase  \n",
       "customer_id        0.394563          -0.342211  \n",
       "star_rating       -0.000276           0.045136  \n",
       "helpful_votes      0.065712          -0.086171  \n",
       "total_votes        0.071795          -0.098027  \n",
       "vine               1.000000          -0.849396  \n",
       "verified_purchase -0.849396           1.000000  "
      ]
     },
     "execution_count": 11,
     "metadata": {},
     "output_type": "execute_result"
    }
   ],
   "source": [
    "rev_df.corr()"
   ]
  },
  {
   "cell_type": "code",
   "execution_count": 12,
   "metadata": {},
   "outputs": [
    {
     "data": {
      "text/plain": [
       "20509"
      ]
     },
     "execution_count": 12,
     "metadata": {},
     "output_type": "execute_result"
    }
   ],
   "source": [
    "len(rev_df.customer_id.unique())"
   ]
  },
  {
   "cell_type": "code",
   "execution_count": 99,
   "metadata": {},
   "outputs": [
    {
     "name": "stdout",
     "output_type": "stream",
     "text": [
      "count    7276.000000\n",
      "mean        4.275976\n",
      "std         0.850780\n",
      "min         1.000000\n",
      "25%         4.000000\n",
      "50%         4.000000\n",
      "75%         5.000000\n",
      "max         5.000000\n",
      "Name: star_rating, dtype: float64\n",
      "count    25578.000000\n",
      "mean         4.302252\n",
      "std          1.124503\n",
      "min          1.000000\n",
      "25%          4.000000\n",
      "50%          5.000000\n",
      "75%          5.000000\n",
      "max          5.000000\n",
      "Name: star_rating, dtype: float64\n",
      "count    1859.000000\n",
      "mean        3.919311\n",
      "std         1.456195\n",
      "min         1.000000\n",
      "25%         3.000000\n",
      "50%         5.000000\n",
      "75%         5.000000\n",
      "max         5.000000\n",
      "Name: star_rating, dtype: float64\n"
     ]
    }
   ],
   "source": [
    "    rev_df['helpful_ratio'] = rev_df['helpful_votes']/rev_df['total_votes']\n",
    "\n",
    "    vines = rev_df[rev_df['vine']==1]\n",
    "    #not_vines = rev_df[rev_df['vine']==0]\n",
    "\n",
    "    print(vines.star_rating.describe())\n",
    "    #print(not_vines.describe())\n",
    "\n",
    "    verified = rev_df[rev_df['verified_purchase']==1 & (rev_df['vine']==0)]\n",
    "    not_verified = rev_df[(rev_df['verified_purchase']==0) & (rev_df['vine']==0)]\n",
    "\n",
    "    print(verified.star_rating.describe())\n",
    "    print(not_verified.star_rating.describe())\n"
   ]
  },
  {
   "cell_type": "code",
   "execution_count": 95,
   "metadata": {},
   "outputs": [
    {
     "data": {
      "text/plain": [
       "array([[<matplotlib.axes._subplots.AxesSubplot object at 0x1a4b86b048>]],\n",
       "      dtype=object)"
      ]
     },
     "execution_count": 95,
     "metadata": {},
     "output_type": "execute_result"
    },
    {
     "data": {
      "image/png": "[encoded data removed]",
      "text/plain": [
       "<Figure size 432x288 with 1 Axes>"
      ]
     },
     "metadata": {
      "needs_background": "light"
     },
     "output_type": "display_data"
    }
   ],
   "source": [
    "not_verified.hist('helpful_votes', log = True, rwidth = 0.75)"
   ]
  },
  {
   "cell_type": "code",
   "execution_count": 53,
   "metadata": {},
   "outputs": [
    {
     "data": {
      "text/plain": [
       "(array([  55.,  239.,  859., 2613., 3510.]),\n",
       " array([0.  , 1.01, 2.01, 3.01, 4.01, 5.  ]),\n",
       " <a list of 5 Patch objects>)"
      ]
     },
     "execution_count": 53,
     "metadata": {},
     "output_type": "execute_result"
    },
    {
     "data": {
      "image/png": "[encoded data removed]",
      "text/plain": [
       "<Figure size 432x288 with 1 Axes>"
      ]
     },
     "metadata": {
      "needs_background": "light"
     },
     "output_type": "display_data"
    }
   ],
   "source": [
    "vine = vines['star_rating']\n",
    "plt.hist(vine, bins = [0, 1.01, 2.01, 3.01, 4.01, 5], align = 'right', rwidth = 0.75, alpha = 0.5, label = 'vine')\n",
    "#plt.show()"
   ]
  },
  {
   "cell_type": "code",
   "execution_count": 54,
   "metadata": {},
   "outputs": [
    {
     "data": {
      "text/plain": [
       "(array([ 1380.,  1014.,  2152.,  4981., 16051.]),\n",
       " array([0.  , 1.01, 2.01, 3.01, 4.01, 5.  ]),\n",
       " <a list of 5 Patch objects>)"
      ]
     },
     "execution_count": 54,
     "metadata": {},
     "output_type": "execute_result"
    },
    {
     "data": {
      "image/png": "[encoded data removed]",
      "text/plain": [
       "<Figure size 432x288 with 1 Axes>"
      ]
     },
     "metadata": {
      "needs_background": "light"
     },
     "output_type": "display_data"
    }
   ],
   "source": [
    "plt.hist(verified['star_rating'], bins = [0, 1.01, 2.01, 3.01, 4.01, 5], align = 'right', rwidth = 0.75, alpha = 0.5, label = 'verified')\n",
    "#plt.hist(not_verified['star_rating'], bins = [0, 1.01, 2.01, 3.01, 4.01, 5], align = 'right', rwidth = 0.75, alpha = 0.25, color = 'g', label = 'not verified or vine')\n",
    "#plt.legend(loc='upper right')\n",
    "#plt.show()"
   ]
  },
  {
   "cell_type": "code",
   "execution_count": 55,
   "metadata": {},
   "outputs": [
    {
     "data": {
      "text/plain": [
       "(array([ 267.,   97.,  158.,  334., 1003.]),\n",
       " array([0.  , 1.01, 2.01, 3.01, 4.01, 5.  ]),\n",
       " <a list of 5 Patch objects>)"
      ]
     },
     "execution_count": 55,
     "metadata": {},
     "output_type": "execute_result"
    },
    {
     "data": {
      "image/png": "[encoded data removed]",
      "text/plain": [
       "<Figure size 432x288 with 1 Axes>"
      ]
     },
     "metadata": {
      "needs_background": "light"
     },
     "output_type": "display_data"
    }
   ],
   "source": [
    "plt.hist(not_verified['star_rating'], bins = [0, 1.01, 2.01, 3.01, 4.01, 5], align = 'right', rwidth = 0.75)"
   ]
  },
  {
   "cell_type": "code",
   "execution_count": 103,
   "metadata": {},
   "outputs": [
    {
     "ename": "KeyError",
     "evalue": "'font.color is not a valid rc parameter. See rcParams.keys() for a list of valid parameters.'",
     "output_type": "error",
     "traceback": [
      "\u001b[0;31m---------------------------------------------------------------------------\u001b[0m",
      "\u001b[0;31mKeyError\u001b[0m                                  Traceback (most recent call last)",
      "\u001b[0;32m~/anaconda3/lib/python3.6/site-packages/matplotlib/__init__.py\u001b[0m in \u001b[0;36m__setitem__\u001b[0;34m(self, key, val)\u001b[0m\n\u001b[1;32m    860\u001b[0m             \u001b[0;32mtry\u001b[0m\u001b[0;34m:\u001b[0m\u001b[0;34m\u001b[0m\u001b[0m\n\u001b[0;32m--> 861\u001b[0;31m                 \u001b[0mcval\u001b[0m \u001b[0;34m=\u001b[0m \u001b[0mself\u001b[0m\u001b[0;34m.\u001b[0m\u001b[0mvalidate\u001b[0m\u001b[0;34m[\u001b[0m\u001b[0mkey\u001b[0m\u001b[0;34m]\u001b[0m\u001b[0;34m(\u001b[0m\u001b[0mval\u001b[0m\u001b[0;34m)\u001b[0m\u001b[0;34m\u001b[0m\u001b[0m\n\u001b[0m\u001b[1;32m    862\u001b[0m             \u001b[0;32mexcept\u001b[0m \u001b[0mValueError\u001b[0m \u001b[0;32mas\u001b[0m \u001b[0mve\u001b[0m\u001b[0;34m:\u001b[0m\u001b[0;34m\u001b[0m\u001b[0m\n",
      "\u001b[0;31mKeyError\u001b[0m: 'font.color'",
      "\nDuring handling of the above exception, another exception occurred:\n",
      "\u001b[0;31mKeyError\u001b[0m                                  Traceback (most recent call last)",
      "\u001b[0;32m<ipython-input-103-f4b786e05559>\u001b[0m in \u001b[0;36m<module>\u001b[0;34m\u001b[0m\n\u001b[1;32m      7\u001b[0m     \u001b[0;34m'xtick.labelsize'\u001b[0m     \u001b[0;34m:\u001b[0m \u001b[0;34m'medium'\u001b[0m\u001b[0;34m,\u001b[0m\u001b[0;34m\u001b[0m\u001b[0m\n\u001b[1;32m      8\u001b[0m     \u001b[0;34m'ytick.labelsize'\u001b[0m     \u001b[0;34m:\u001b[0m \u001b[0;34m'medium'\u001b[0m\u001b[0;34m,\u001b[0m\u001b[0;34m\u001b[0m\u001b[0m\n\u001b[0;32m----> 9\u001b[0;31m     \u001b[0;34m'legend.fontsize'\u001b[0m     \u001b[0;34m:\u001b[0m \u001b[0;34m'large'\u001b[0m\u001b[0;34m,\u001b[0m\u001b[0;34m\u001b[0m\u001b[0m\n\u001b[0m\u001b[1;32m     10\u001b[0m })\n",
      "\u001b[0;32m~/anaconda3/lib/python3.6/_collections_abc.py\u001b[0m in \u001b[0;36mupdate\u001b[0;34m(*args, **kwds)\u001b[0m\n\u001b[1;32m    839\u001b[0m             \u001b[0;32mif\u001b[0m \u001b[0misinstance\u001b[0m\u001b[0;34m(\u001b[0m\u001b[0mother\u001b[0m\u001b[0;34m,\u001b[0m \u001b[0mMapping\u001b[0m\u001b[0;34m)\u001b[0m\u001b[0;34m:\u001b[0m\u001b[0;34m\u001b[0m\u001b[0m\n\u001b[1;32m    840\u001b[0m                 \u001b[0;32mfor\u001b[0m \u001b[0mkey\u001b[0m \u001b[0;32min\u001b[0m \u001b[0mother\u001b[0m\u001b[0;34m:\u001b[0m\u001b[0;34m\u001b[0m\u001b[0m\n\u001b[0;32m--> 841\u001b[0;31m                     \u001b[0mself\u001b[0m\u001b[0;34m[\u001b[0m\u001b[0mkey\u001b[0m\u001b[0;34m]\u001b[0m \u001b[0;34m=\u001b[0m \u001b[0mother\u001b[0m\u001b[0;34m[\u001b[0m\u001b[0mkey\u001b[0m\u001b[0;34m]\u001b[0m\u001b[0;34m\u001b[0m\u001b[0m\n\u001b[0m\u001b[1;32m    842\u001b[0m             \u001b[0;32melif\u001b[0m \u001b[0mhasattr\u001b[0m\u001b[0;34m(\u001b[0m\u001b[0mother\u001b[0m\u001b[0;34m,\u001b[0m \u001b[0;34m\"keys\"\u001b[0m\u001b[0;34m)\u001b[0m\u001b[0;34m:\u001b[0m\u001b[0;34m\u001b[0m\u001b[0m\n\u001b[1;32m    843\u001b[0m                 \u001b[0;32mfor\u001b[0m \u001b[0mkey\u001b[0m \u001b[0;32min\u001b[0m \u001b[0mother\u001b[0m\u001b[0;34m.\u001b[0m\u001b[0mkeys\u001b[0m\u001b[0;34m(\u001b[0m\u001b[0;34m)\u001b[0m\u001b[0;34m:\u001b[0m\u001b[0;34m\u001b[0m\u001b[0m\n",
      "\u001b[0;32m~/anaconda3/lib/python3.6/site-packages/matplotlib/__init__.py\u001b[0m in \u001b[0;36m__setitem__\u001b[0;34m(self, key, val)\u001b[0m\n\u001b[1;32m    866\u001b[0m             raise KeyError(\n\u001b[1;32m    867\u001b[0m                 \u001b[0;34m'%s is not a valid rc parameter. See rcParams.keys() for a '\u001b[0m\u001b[0;34m\u001b[0m\u001b[0m\n\u001b[0;32m--> 868\u001b[0;31m                 'list of valid parameters.' % (key,))\n\u001b[0m\u001b[1;32m    869\u001b[0m \u001b[0;34m\u001b[0m\u001b[0m\n\u001b[1;32m    870\u001b[0m     \u001b[0;32mdef\u001b[0m \u001b[0m__getitem__\u001b[0m\u001b[0;34m(\u001b[0m\u001b[0mself\u001b[0m\u001b[0;34m,\u001b[0m \u001b[0mkey\u001b[0m\u001b[0;34m)\u001b[0m\u001b[0;34m:\u001b[0m\u001b[0;34m\u001b[0m\u001b[0m\n",
      "\u001b[0;31mKeyError\u001b[0m: 'font.color is not a valid rc parameter. See rcParams.keys() for a list of valid parameters.'"
     ]
    }
   ],
   "source": [
    "import matplotlib as mpl\n",
    "mpl.rcParams.update({\n",
    "    'font.size'           : 16.0,\n",
    "    'axes.titlesize'      : 'large',\n",
    "    'axes.labelsize'      : 'large',\n",
    "    'xtick.labelsize'     : 'medium',\n",
    "    'ytick.labelsize'     : 'medium',\n",
    "    'legend.fontsize'     : 'large',\n",
    "})"
   ]
  },
  {
   "cell_type": "code",
   "execution_count": 102,
   "metadata": {},
   "outputs": [
    {
     "data": {
      "image/png": "[encoded data removed]",
      "text/plain": [
       "<Figure size 1152x1152 with 3 Axes>"
      ]
     },
     "metadata": {},
     "output_type": "display_data"
    }
   ],
   "source": [
    "fig = plt.figure(figsize=(16, 16))\n",
    "\n",
    "ax = fig.add_subplot(131)\n",
    "vine = ax.pie([55.,  239.,  859., 2613., 3510.], labels = [1, 2, 3, 4, 5], autopct='%1.1f%%')\n",
    "ax.set_xlabel('vine purchases')\n",
    "               \n",
    "ax2 = fig.add_subplot(132)\n",
    "verified = ax2.pie([ 1325.,   775.,  1293.,  2370., 12557.], labels = [1, 2, 3, 4, 5], autopct='%1.1f%%')\n",
    "ax2.set_xlabel('verified purchases \\n (excludes vine)')\n",
    "\n",
    "ax3 = fig.add_subplot(133)\n",
    "not_verified = ax3.pie([ 267.,   97.,  158.,  334., 1003.], labels = [1, 2, 3, 4, 5], autopct='%1.1f%%')\n",
    "ax3.set_xlabel('not verified purchases \\n (excludes vine)')\n",
    "\n",
    "plt.show()"
   ]
  },
  {
   "cell_type": "code",
   "execution_count": 89,
   "metadata": {},
   "outputs": [
    {
     "data": {
      "text/plain": [
       "array([[<matplotlib.axes._subplots.AxesSubplot object at 0x1a4b67e358>]],\n",
       "      dtype=object)"
      ]
     },
     "execution_count": 89,
     "metadata": {},
     "output_type": "execute_result"
    },
    {
     "data": {
      "image/png": "[encoded data removed]",
      "text/plain": [
       "<Figure size 432x288 with 1 Axes>"
      ]
     },
     "metadata": {
      "needs_background": "light"
     },
     "output_type": "display_data"
    }
   ],
   "source": [
    "vines.hist('helpful_votes', log = True, rwidth = 0.75)"
   ]
  },
  {
   "cell_type": "code",
   "execution_count": 91,
   "metadata": {},
   "outputs": [
    {
     "data": {
      "text/plain": [
       "([<matplotlib.patches.Wedge at 0x1a4aed1c50>,\n",
       "  <matplotlib.patches.Wedge at 0x1a4aedc3c8>,\n",
       "  <matplotlib.patches.Wedge at 0x1a4aedcb00>,\n",
       "  <matplotlib.patches.Wedge at 0x1a4aee6278>,\n",
       "  <matplotlib.patches.Wedge at 0x1a4aee69b0>],\n",
       " [Text(0.9899106440514054, 0.4796633369288629, '1'),\n",
       "  Text(0.5316549390292433, 0.9629865138234345, '2'),\n",
       "  Text(0.0807906799185312, 1.0970291090204953, '3'),\n",
       "  Text(-0.7561668573919083, 0.7988815204910211, '4'),\n",
       "  Text(-0.13628038675504173, -1.0915253804588771, '5')],\n",
       " [Text(0.5399512603916756, 0.2616345474157434, '14.4%'),\n",
       "  Text(0.28999360310685995, 0.5252653711764187, '5.2%'),\n",
       "  Text(0.04406764359192611, 0.5983795140111792, '8.5%'),\n",
       "  Text(-0.41245464948649535, 0.43575355663146603, '18.0%'),\n",
       "  Text(-0.07433475641184094, -0.5953774802502966, '54.0%')])"
      ]
     },
     "execution_count": 91,
     "metadata": {},
     "output_type": "execute_result"
    }
   ],
   "source": []
  },
  {
   "cell_type": "code",
   "execution_count": null,
   "metadata": {},
   "outputs": [],
   "source": []
  }
 ],
 "metadata": {
  "kernelspec": {
   "display_name": "Python 3",
   "language": "python",
   "name": "python3"
  },
  "language_info": {
   "codemirror_mode": {
    "name": "ipython",
    "version": 3
   },
   "file_extension": ".py",
   "mimetype": "text/x-python",
   "name": "python",
   "nbconvert_exporter": "python",
   "pygments_lexer": "ipython3",
   "version": "3.6.6"
  }
 },
 "nbformat": 4,
 "nbformat_minor": 2
}
